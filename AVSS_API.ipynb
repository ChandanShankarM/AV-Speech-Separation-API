{
  "nbformat": 4,
  "nbformat_minor": 0,
  "metadata": {
    "colab": {
      "name": "AVSS_API.ipynb",
      "provenance": [],
      "collapsed_sections": []
    },
    "kernelspec": {
      "name": "python3",
      "display_name": "Python 3"
    },
    "accelerator": "GPU"
  },
  "cells": [
    {
      "cell_type": "code",
      "metadata": {
        "id": "vFK58vnOMRpF"
      },
      "source": [
        "!pip install face_alignment ffmpeg-python pyyaml==5.1.2 pydub flask_ngrok\n",
        "!git clone https://github.com/hemanth-nag/AV-Speech-Separation-API\n",
        "%cd AV-Speech-Separation-API\n",
        "from main import inference\n",
        "\n",
        "\n",
        "\n",
        "import os\n",
        "import time\n",
        "import urllib.request\n",
        "from flask_ngrok import run_with_ngrok\n",
        "from werkzeug.utils import secure_filename\n",
        "from flask import Flask, flash, request, redirect, url_for, render_template, jsonify, send_from_directory\n",
        "\n",
        "app = Flask(__name__)\n",
        "run_with_ngrok(app)\n",
        "\n",
        "UPLOAD_FOLDER = './'\n",
        "app.config['UPLOAD_FOLDER'] = UPLOAD_FOLDER\n",
        "\n",
        "avs = inference()\n",
        "\n",
        "@app.route('/get1', methods=['GET'])\n",
        "def get_res1():\n",
        "\t\treturn send_from_directory('/content/AV-Speech-Separation-API/output_audio', filename='test_0.wav', as_attachment=True)\n",
        "\n",
        "@app.route('/get2', methods=['GET'])\n",
        "def get_res2():\n",
        "\t\treturn send_from_directory('/content/AV-Speech-Separation-API/output_audio', filename='test_1.wav', as_attachment=True)\n",
        "\n",
        "@app.route('/', methods=['POST', 'GET'])\n",
        "def upload():\n",
        "\tif 'file' not in request.files:\n",
        "\t\treturn 'No File'\n",
        "\telse:\n",
        "\t\tfile = request.files['file']\n",
        "\t\t#coords = request.data['coords']'\n",
        "\t\tfilename = 'vid.mp4'\n",
        "\t\tfile.save(os.path.join(app.config['UPLOAD_FOLDER'], filename))\n",
        "\t\tavs.avss('/content/AV-Speech-Separation-API/vid.mp4',coordinates=[[0,630],[630,1270]])\n",
        "\t\treturn 'OK'\n",
        "\t  \n",
        "if __name__ == \"__main__\":\n",
        "    app.run()\n"
      ],
      "execution_count": 13,
      "outputs": []
    }
  ]
}